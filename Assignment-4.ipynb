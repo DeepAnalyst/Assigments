{
 "cells": [
  {
   "cell_type": "code",
   "execution_count": null,
   "metadata": {},
   "outputs": [],
   "source": [
    "def factorial(num):\n",
    "    fact = 1\n",
    "    for i in range(1,num+1):\n",
    "        fact = fact * i\n",
    "    return fact\n",
    "\n",
    "num = int(input(\"Enter a number: \"))\n",
    "\n",
    "print(\"Factorial of\", num, \"is\", factorial(num))"
   ]
  },
  {
   "cell_type": "code",
   "execution_count": null,
   "metadata": {},
   "outputs": [],
   "source": [
    "num = int(input(\"Enter a number: \"))\n",
    "\n",
    "for i in range(1, 11):\n",
    "    print(num, \"x\", i, \"=\", num * i)"
   ]
  },
  {
   "cell_type": "code",
   "execution_count": null,
   "metadata": {},
   "outputs": [],
   "source": [
    "terms = int(input(\"Enter the number of terms: \"))\n",
    "\n",
    "num1 = 0\n",
    "num2 = 1\n",
    "\n",
    "if terms <= 0:\n",
    "   print(\"Please enter a positive integer\")\n",
    "elif terms == 1:\n",
    "   print(\"Fibonacci sequence upto\", terms, \":\")\n",
    "   print(num1)\n",
    "else:\n",
    "   print(\"Fibonacci sequence:\")\n",
    "   \n",
    "   count = 0\n",
    "   \n",
    "   while count < terms:\n",
    "       print(num1)\n",
    "       nth = num1 + num2\n",
    "    \n",
    "       num1 = num2\n",
    "       num2 = nth\n",
    "       count += 1"
   ]
  },
  {
   "cell_type": "code",
   "execution_count": null,
   "metadata": {},
   "outputs": [],
   "source": [
    "def isArmstrong(num):\n",
    "\n",
    "    num_str = str(num)\n",
    "\n",
    "    n = len(num_str)\n",
    "\n",
    "    sum = 0\n",
    "\n",
    "    for digit in num_str:\n",
    "        sum += int(digit) ** n\n",
    "\n",
    "    if sum == num:\n",
    "        return True\n",
    "    else:\n",
    "        return False\n",
    "\n",
    "num = int(input(\"Enter a number: \"))\n",
    "\n",
    "if isArmstrong(num):\n",
    "    print(num, \"is an Armstrong number\")\n",
    "else:\n",
    "    print(num, \"is not an Armstrong number\")"
   ]
  },
  {
   "cell_type": "code",
   "execution_count": null,
   "metadata": {},
   "outputs": [],
   "source": [
    "n = int(input(\"Enter a positive integer: \"))\n",
    "\n",
    "sum = 0\n",
    "\n",
    "for i in range(1, n+1):\n",
    "    sum += i\n",
    "\n",
    "print(\"The sum of first\", n, \"natural numbers is\", sum)"
   ]
  }
 ],
 "metadata": {
  "kernelspec": {
   "display_name": "base",
   "language": "python",
   "name": "python3"
  },
  "language_info": {
   "name": "python",
   "version": "3.10.9"
  },
  "orig_nbformat": 4
 },
 "nbformat": 4,
 "nbformat_minor": 2
}
