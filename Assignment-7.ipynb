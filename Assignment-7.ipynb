{
 "cells": [
  {
   "cell_type": "code",
   "execution_count": null,
   "metadata": {},
   "outputs": [],
   "source": [
    "arr = []\n",
    "n = int(input(\"Enter the size of the array: \"))\n",
    "for i in range(n):\n",
    "    arr.append(int(input(\"Enter element \"+ str(i+1) + \": \")))\n",
    "\n",
    "arr_sum = sum(arr)\n",
    "\n",
    "print(\"The sum of the array is:\", arr_sum)"
   ]
  },
  {
   "cell_type": "code",
   "execution_count": null,
   "metadata": {},
   "outputs": [],
   "source": [
    "arr = []\n",
    "n = int(input(\"Enter the size of the array: \"))\n",
    "for i in range(n):\n",
    "    arr.append(int(input(\"Enter element \"+ str(i+1) + \": \")))\n",
    "\n",
    "largest = arr[0]\n",
    "for i in range(1, n):\n",
    "    if arr[i] > largest:\n",
    "        largest = arr[i]\n",
    "\n",
    "print(\"The largest element in the array is:\", largest)"
   ]
  },
  {
   "cell_type": "code",
   "execution_count": null,
   "metadata": {},
   "outputs": [],
   "source": [
    "arr = []\n",
    "n = int(input(\"Enter the size of the array: \"))\n",
    "for i in range(n):\n",
    "    arr.append(int(input(\"Enter element \"+ str(i+1) + \": \")))\n",
    "d = int(input(\"Enter the number of positions to rotate: \"))\n",
    "\n",
    "temp = arr[:d]\n",
    "arr = arr[d:] + temp\n",
    "\n",
    "print(\"The rotated array is:\", arr)"
   ]
  },
  {
   "cell_type": "code",
   "execution_count": null,
   "metadata": {},
   "outputs": [],
   "source": [
    "arr = []\n",
    "n = int(input(\"Enter the size of the array: \"))\n",
    "for i in range(n):\n",
    "    arr.append(int(input(\"Enter element \"+ str(i+1) + \": \")))\n",
    "k = int(input(\"Enter the number of elements to split: \"))\n",
    "\n",
    "arr = arr[k:] + arr[:k]\n",
    "\n",
    "print(\"The modified array is:\", arr)"
   ]
  },
  {
   "cell_type": "code",
   "execution_count": null,
   "metadata": {},
   "outputs": [],
   "source": [
    "arr = []\n",
    "n = int(input(\"Enter the size of the array: \"))\n",
    "for i in range(n):\n",
    "    arr.append(int(input(\"Enter element \"+ str(i+1) + \": \")))\n",
    "\n",
    "is_monotonic = True\n",
    "if n > 1:\n",
    "    direction = None\n",
    "    for i in range(1, n):\n",
    "        if direction is None:\n",
    "            if arr[i] > arr[i-1]:\n",
    "                direction = 'increasing'\n",
    "            elif arr[i] < arr[i-1]:\n",
    "                direction = 'decreasing'\n",
    "        else:\n",
    "            if direction == 'increasing' and arr[i] < arr[i-1]:\n",
    "                is_monotonic = False\n",
    "                break\n",
    "            elif direction == 'decreasing' and arr[i] > arr[i-1]:\n",
    "                is_monotonic = False\n",
    "                break\n",
    "\n",
    "\n",
    "if is_monotonic:\n",
    "    print(\"The array is monotonic.\")\n",
    "else:\n",
    "    print(\"The array is not monotonic.\")"
   ]
  }
 ],
 "metadata": {
  "kernelspec": {
   "display_name": "base",
   "language": "python",
   "name": "python3"
  },
  "language_info": {
   "name": "python",
   "version": "3.10.9"
  },
  "orig_nbformat": 4
 },
 "nbformat": 4,
 "nbformat_minor": 2
}
