{
 "cells": [
  {
   "cell_type": "code",
   "execution_count": null,
   "metadata": {},
   "outputs": [],
   "source": [
    "num = input(\"Enter a number: \")\n",
    "\n",
    "num_str = str(num)\n",
    "n = len(num_str)\n",
    "\n",
    "sum = 0\n",
    "for i in range(n):\n",
    "    digit = int(num_str[i])\n",
    "    sum += digit**(i+1)\n",
    "\n",
    "if sum == int(num):\n",
    "    print(num, \"is a Disarium number\")\n",
    "else:\n",
    "    print(num, \"is not a Disarium number\")"
   ]
  },
  {
   "cell_type": "code",
   "execution_count": null,
   "metadata": {},
   "outputs": [],
   "source": [
    "def is_disarium(num):\n",
    "    num_str = str(num)\n",
    "    n = len(num_str)\n",
    "    sum = 0\n",
    "    for i in range(n):\n",
    "        digit = int(num_str[i])\n",
    "        sum += digit**(i+1)\n",
    "    if sum == int(num):\n",
    "        return True\n",
    "    else:\n",
    "        return False\n",
    "\n",
    "print(\"Disarium numbers between 1 and 100 are:\")\n",
    "for num in range(1, 101):\n",
    "    if is_disarium(num):\n",
    "        print(num)"
   ]
  },
  {
   "cell_type": "code",
   "execution_count": null,
   "metadata": {},
   "outputs": [],
   "source": [
    "def digit_squares_sum(num):\n",
    "    sum = 0\n",
    "    while num > 0:\n",
    "        digit = num % 10\n",
    "        sum += digit ** 2\n",
    "        num //= 10\n",
    "    return sum\n",
    "\n",
    "def is_happy_number(num):\n",
    "    slow = num\n",
    "    fast = digit_squares_sum(num)\n",
    "    while fast != 1 and slow != fast:\n",
    "        slow = digit_squares_sum(slow)\n",
    "        fast = digit_squares_sum(digit_squares_sum(fast))\n",
    "    return fast == 1\n",
    "\n",
    "num = int(input(\"Enter a number: \"))\n",
    "\n",
    "if is_happy_number(num):\n",
    "    print(num, \"is a Happy number\")\n",
    "else:\n",
    "    print(num, \"is not a Happy number\")"
   ]
  },
  {
   "cell_type": "code",
   "execution_count": null,
   "metadata": {},
   "outputs": [],
   "source": [
    "def digit_squares_sum(num):\n",
    "    sum = 0\n",
    "    while num > 0:\n",
    "        digit = num % 10\n",
    "        sum += digit ** 2\n",
    "        num //= 10\n",
    "    return sum\n",
    "\n",
    "def is_happy_number(num):\n",
    "    slow = num\n",
    "    fast = digit_squares_sum(num)\n",
    "    while fast != 1 and slow != fast:\n",
    "        slow = digit_squares_sum(slow)\n",
    "        fast = digit_squares_sum(digit_squares_sum(fast))\n",
    "    return fast == 1\n",
    "\n",
    "for num in range(1, 101):\n",
    "    if is_happy_number(num):\n",
    "        print(num)"
   ]
  },
  {
   "cell_type": "code",
   "execution_count": null,
   "metadata": {},
   "outputs": [],
   "source": [
    "def is_harshad_number(num):\n",
    "   \n",
    "    sum_of_digits = sum(int(digit) for digit in str(num))\n",
    "   \n",
    "    return num % sum_of_digits == 0\n",
    "\n",
    "print(is_harshad_number(18))\n",
    "print(is_harshad_number(19))"
   ]
  },
  {
   "cell_type": "code",
   "execution_count": null,
   "metadata": {},
   "outputs": [],
   "source": [
    "def is_pronic_number(num):\n",
    "    for i in range(num):\n",
    "        if i * (i + 1) == num:\n",
    "            return True\n",
    "    return False\n",
    "\n",
    "\n",
    "for i in range(1, 101):\n",
    "    if is_pronic_number(i):\n",
    "        print(i)"
   ]
  }
 ],
 "metadata": {
  "kernelspec": {
   "display_name": "base",
   "language": "python",
   "name": "python3"
  },
  "language_info": {
   "name": "python",
   "version": "3.10.9"
  },
  "orig_nbformat": 4
 },
 "nbformat": 4,
 "nbformat_minor": 2
}
